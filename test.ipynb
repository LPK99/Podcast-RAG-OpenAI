{
 "cells": [
  {
   "cell_type": "code",
   "execution_count": 1,
   "metadata": {},
   "outputs": [],
   "source": [
    "import os\n",
    "from langchain.prompts import ChatPromptTemplate, HumanMessagePromptTemplate\n",
    "from langchain.chat_models import ChatOpenAI\n",
    "\n",
    "from langchain.output_parsers import PydanticOutputParser\n",
    "from pydantic import BaseModel, Field\n",
    "from typing import List"
   ]
  },
  {
   "cell_type": "code",
   "execution_count": 2,
   "metadata": {},
   "outputs": [],
   "source": [
    "# Define a new Pydantic model with field descriptions and tailored for Twitter.\n",
    "class TwitterUser(BaseModel):\n",
    "    name: str = Field(description=\"Full name of the user.\")\n",
    "    handle: str = Field(description=\"Twitter handle of the user, without the '@'.\")\n",
    "    age: int = Field(description=\"Age of the user.\")\n",
    "    hobbies: List[str] = Field(description=\"List of hobbies of the user.\")\n",
    "    email: str = Field(description=\"Email address of the user.\")\n",
    "    bio: str = Field(description=\"Bio or short description about the user.\")\n",
    "    location: str = Field(description=\"Location or region where the user resides.\")\n",
    "    is_blue_badge: bool = Field(\n",
    "        description=\"Boolean indicating if the user has a verified blue badge.\"\n",
    "    )\n",
    "    joined: str = Field(description=\"Date the user joined Twitter.\")\n",
    "    gender: str = Field(description=\"Gender of the user.\")\n",
    "    appearance: str = Field(description=\"Physical description of the user.\")\n",
    "    avatar_prompt: str = Field(\n",
    "        description=\"Prompt for generating a photorealistic avatar image. The image should capture the essence of the user's appearance description, ideally in a setting that aligns with their interests or bio. Use professional equipment to ensure high quality and fine details.\"\n",
    "    )\n",
    "    banner_prompt: str = Field(\n",
    "        description=\"Prompt for generating a banner image. This image should represent the user's hobbies, interests, or the essence of their bio. It should be high-resolution and captivating, suitable for a Twitter profile banner.\"\n",
    "    )"
   ]
  },
  {
   "cell_type": "code",
   "execution_count": 3,
   "metadata": {},
   "outputs": [],
   "source": [
    "# Instantiate the parser with the new model.\n",
    "parser = PydanticOutputParser(pydantic_object=TwitterUser)\n",
    "\n",
    "# Update the prompt to match the new query and desired format.\n",
    "prompt = ChatPromptTemplate(\n",
    "    messages=[\n",
    "        HumanMessagePromptTemplate.from_template(\n",
    "            \"answer the users question as best as possible.\\n{format_instructions}\\n{question}\"\n",
    "        )\n",
    "    ],\n",
    "    input_variables=[\"question\"],\n",
    "    partial_variables={\n",
    "        \"format_instructions\": parser.get_format_instructions(),\n",
    "    },\n",
    ")"
   ]
  },
  {
   "cell_type": "code",
   "execution_count": 4,
   "metadata": {},
   "outputs": [
    {
     "name": "stdout",
     "output_type": "stream",
     "text": [
      "{\n",
      "  \"name\": \"Lila Patel\",\n",
      "  \"handle\": \"lilapatel\",\n",
      "  \"age\": 30,\n",
      "  \"hobbies\": [\"Photography\", \"Cooking\", \"Hiking\"],\n",
      "  \"email\": \"lila.patel@example.com\",\n",
      "  \"bio\": \"Passionate about capturing moments through the lens. Foodie, nature lover, and adventurer. Living life one click at a time.\",\n",
      "  \"location\": \"Mumbai, India\",\n",
      "  \"is_blue_badge\": false,\n",
      "  \"joined\": \"2015-07-12\",\n",
      "  \"gender\": \"Female\",\n",
      "  \"appearance\": \"Curly hair, dusky complexion, and expressive eyes.\",\n",
      "  \"avatar_prompt\": \"Create a photorealistic avatar image showcasing my love for photography. Capture me holding a camera with a beautiful sunset in the background.\",\n",
      "  \"banner_prompt\": \"Design a captivating banner image that represents my hobbies. Include elements of photography, cooking, and hiking in a scenic natural setting.\"\n",
      "}\n",
      "name='Lila Patel' handle='lilapatel' age=30 hobbies=['Photography', 'Cooking', 'Hiking'] email='lila.patel@example.com' bio='Passionate about capturing moments through the lens. Foodie, nature lover, and adventurer. Living life one click at a time.' location='Mumbai, India' is_blue_badge=False joined='2015-07-12' gender='Female' appearance='Curly hair, dusky complexion, and expressive eyes.' avatar_prompt='Create a photorealistic avatar image showcasing my love for photography. Capture me holding a camera with a beautiful sunset in the background.' banner_prompt='Design a captivating banner image that represents my hobbies. Include elements of photography, cooking, and hiking in a scenic natural setting.'\n"
     ]
    }
   ],
   "source": [
    "chat_model = ChatOpenAI(\n",
    "    model=\"gpt-3.5-turbo\",\n",
    "    openai_api_key='',\n",
    "    max_tokens=1000\n",
    ")\n",
    "\n",
    "# Generate the input using the updated prompt.\n",
    "user_query = (\n",
    "    \"Generate a detailed Twitter profile of a random realistic user with a diverse background, \"\n",
    "    \"from any country in the world, original name, including prompts for images. Come up with \"\n",
    "    \"real name, never use most popular placeholders like john smith and john doe.\"\n",
    ")\n",
    "_input = prompt.format_prompt(question=user_query)\n",
    "\n",
    "output = chat_model(_input.to_messages())\n",
    "parsed = parser.parse(output.content)\n",
    "print(output.content)\n",
    "print(parsed)"
   ]
  },
  {
   "cell_type": "code",
   "execution_count": 5,
   "metadata": {},
   "outputs": [],
   "source": [
    "from langchain.document_loaders import PyPDFLoader\n",
    "\n",
    "loader = PyPDFLoader(\"elon.pdf\")\n",
    "document = loader.load()"
   ]
  },
  {
   "cell_type": "code",
   "execution_count": 7,
   "metadata": {},
   "outputs": [
    {
     "name": "stdout",
     "output_type": "stream",
     "text": [
      "<class '__main__.TwitterUser'>\n"
     ]
    }
   ],
   "source": [
    "document_query = \"Create a profile based on this description: \" + document[0].page_content\n",
    "\n",
    "_input = prompt.format_prompt(question=document_query)\n",
    "output = chat_model(_input.to_messages())\n",
    "parsed = parser.parse(output.content)\n",
    "\n",
    "print(type(parsed))"
   ]
  },
  {
   "cell_type": "code",
   "execution_count": 9,
   "metadata": {},
   "outputs": [
    {
     "data": {
      "text/plain": [
       "TwitterUser(name='Elon Musk', handle='elonmusk', age=51, hobbies=['space exploration', 'electric vehicles', 'artificial intelligence', 'sustainable energy', 'tunnel construction', 'neural interfaces', 'Mars colonization', 'hyperloop transportation'], email='', bio=\"Elon Musk, a 51-year-old male entrepreneur, inventor, and CEO, is best known for his ambitious goals in revolutionizing transportation and energy. Born in Pretoria, South Africa, Musk later moved to the United States to pursue higher education. He attended Queen's University in Kingston, Ontario, Canada for two years before transferring to the University of Pennsylvania. As a visionary with a normal build, short-cropped hair, and a trimmed beard, Musk often sports tailored suits or smart casual attire, giving him a confident yet approachable demeanor. Throughout his career, Musk has founded and led several successful companies, including SpaceX, Tesla, Neuralink, and The Boring Company. His interests span across various fields such as space exploration, electric vehicles, artificial intelligence, sustainable energy, tunnel construction, neural interfaces, Mars colonization, and hyperloop transportation. With his dedication to advancing technology and sustainable solutions, Elon Musk continues to leave an indelible mark on the world.\", location='Pretoria, South Africa', is_blue_badge=False, joined='', gender='male', appearance='normal build, short-cropped hair, trimmed beard', avatar_prompt='', banner_prompt='')"
      ]
     },
     "execution_count": 9,
     "metadata": {},
     "output_type": "execute_result"
    }
   ],
   "source": [
    "from langchain.output_parsers import OutputFixingParser\n",
    "from langchain.schema import OutputParserException\n",
    "\n",
    "try:\n",
    "    parsed = parser.parse(output.content)\n",
    "except OutputParserException as e:\n",
    "    new_parser = OutputFixingParser.from_llm(\n",
    "        parser=parser,\n",
    "        llm=ChatOpenAI()\n",
    "    )\n",
    "    parsed = new_parser.parse(output.content)\n",
    "parsed"
   ]
  }
 ],
 "metadata": {
  "kernelspec": {
   "display_name": "local_gpt",
   "language": "python",
   "name": "local_gpt"
  },
  "language_info": {
   "codemirror_mode": {
    "name": "ipython",
    "version": 3
   },
   "file_extension": ".py",
   "mimetype": "text/x-python",
   "name": "python",
   "nbconvert_exporter": "python",
   "pygments_lexer": "ipython3",
   "version": "3.10.0"
  }
 },
 "nbformat": 4,
 "nbformat_minor": 2
}
